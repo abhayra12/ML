{
 "cells": [
  {
   "cell_type": "markdown",
   "id": "3aace4b5",
   "metadata": {},
   "source": [
    "# Machine Learning Zoomcamp\n",
    "\n",
    "## 1.8 Linear algebra refresher"
   ]
  },
  {
   "cell_type": "markdown",
   "id": "2cd0b8e5",
   "metadata": {},
   "source": [
    "## Topics Covered\n",
    "\n",
    "This notebook covers fundamental linear algebra concepts essential for machine learning:\n",
    "\n",
    "* **Vector Operations**: Basic arithmetic with vectors (scaling, addition, element-wise multiplication)\n",
    "* **Multiplication**: \n",
    "    * Vector-vector multiplication (dot product)\n",
    "    * Matrix-vector multiplication \n",
    "    * Matrix-matrix multiplication\n",
    "* **Identity Matrix**: The equivalent of 1 in matrix algebra\n",
    "* **Inverse**: Matrix operations to reverse multiplication effects"
   ]
  },
  {
   "cell_type": "code",
   "execution_count": 1,
   "id": "1317a223",
   "metadata": {},
   "outputs": [],
   "source": [
    "import numpy as np"
   ]
  },
  {
   "cell_type": "markdown",
   "id": "83def4db",
   "metadata": {},
   "source": [
    "### Setting up NumPy\n",
    "\n",
    "We'll use NumPy for efficient linear algebra operations. NumPy provides optimized implementations of vector and matrix operations."
   ]
  },
  {
   "cell_type": "markdown",
   "id": "4052050d",
   "metadata": {},
   "source": [
    "## Vector Operations\n",
    "\n",
    "### What is a Vector?\n",
    "\n",
    "A vector is a one-dimensional array of numbers. We can perform basic arithmetic operations on vectors:\n",
    "- **Scalar multiplication**: Multiply each element by a number\n",
    "- **Vector addition**: Add corresponding elements of two vectors\n",
    "- **Element-wise multiplication**: Multiply corresponding elements (also called Hadamard product)"
   ]
  },
  {
   "cell_type": "code",
   "execution_count": null,
   "id": "e87a01b7",
   "metadata": {},
   "outputs": [],
   "source": [
    "# Create a 1D vector\n",
    "u = np.array([2, 4, 5, 6])"
   ]
  },
  {
   "cell_type": "code",
   "execution_count": null,
   "id": "913795a9",
   "metadata": {},
   "outputs": [
    {
     "data": {
      "text/plain": [
       "array([ 4,  8, 10, 12])"
      ]
     },
     "execution_count": 3,
     "metadata": {},
     "output_type": "execute_result"
    }
   ],
   "source": [
    "# Scalar multiplication: multiply each element by 2\n",
    "2 * u"
   ]
  },
  {
   "cell_type": "code",
   "execution_count": null,
   "id": "24625627",
   "metadata": {},
   "outputs": [],
   "source": [
    "# Create another vector\n",
    "v = np.array([1, 0, 0, 2])"
   ]
  },
  {
   "cell_type": "code",
   "execution_count": null,
   "id": "edc95be4",
   "metadata": {},
   "outputs": [
    {
     "data": {
      "text/plain": [
       "array([3, 4, 5, 8])"
      ]
     },
     "execution_count": 5,
     "metadata": {},
     "output_type": "execute_result"
    }
   ],
   "source": [
    "# Vector addition: add corresponding elements\n",
    "u + v"
   ]
  },
  {
   "cell_type": "code",
   "execution_count": null,
   "id": "62f471c3",
   "metadata": {},
   "outputs": [
    {
     "data": {
      "text/plain": [
       "array([ 2,  0,  0, 12])"
      ]
     },
     "execution_count": 6,
     "metadata": {},
     "output_type": "execute_result"
    }
   ],
   "source": [
    "# Element-wise multiplication (Hadamard product): multiply corresponding elements\n",
    "u * v"
   ]
  },
  {
   "cell_type": "markdown",
   "id": "6cb784ea",
   "metadata": {},
   "source": [
    "## Multiplication\n",
    "\n",
    "### Vector-Vector Multiplication (Dot Product)\n",
    "\n",
    "The dot product combines two vectors into a single scalar. It's calculated as:\n",
    "$$\\mathbf{u} \\cdot \\mathbf{v} = \\sum_{i=1}^{n} u_i \\cdot v_i$$\n",
    "\n",
    "The dot product is fundamental in machine learning for computing predictions and similarities between vectors."
   ]
  },
  {
   "cell_type": "code",
   "execution_count": null,
   "id": "6a838e14",
   "metadata": {},
   "outputs": [
    {
     "data": {
      "text/plain": [
       "4"
      ]
     },
     "execution_count": 10,
     "metadata": {},
     "output_type": "execute_result"
    }
   ],
   "source": [
    "# Check the length of vector v\n",
    "v.shape[0]"
   ]
  },
  {
   "cell_type": "code",
   "execution_count": null,
   "id": "bef565ee",
   "metadata": {},
   "outputs": [],
   "source": [
    "def vector_vector_multiplication(u, v):\n",
    "    \"\"\"\n",
    "    Calculate the dot product of two vectors.\n",
    "    \n",
    "    Parameters:\n",
    "    u, v: 1D numpy arrays of the same length\n",
    "    \n",
    "    Returns:\n",
    "    A scalar value representing the sum of element-wise products\n",
    "    \"\"\"\n",
    "    assert u.shape[0] == v.shape[0]\n",
    "    \n",
    "    n = u.shape[0]\n",
    "    \n",
    "    result = 0.0\n",
    "\n",
    "    # Sum the product of each pair of elements\n",
    "    for i in range(n):\n",
    "        result = result + u[i] * v[i]\n",
    "    \n",
    "    return result"
   ]
  },
  {
   "cell_type": "code",
   "execution_count": null,
   "id": "5f212712",
   "metadata": {},
   "outputs": [
    {
     "data": {
      "text/plain": [
       "14.0"
      ]
     },
     "execution_count": 12,
     "metadata": {},
     "output_type": "execute_result"
    }
   ],
   "source": [
    "# Compute dot product using our custom implementation\n",
    "vector_vector_multiplication(u, v)"
   ]
  },
  {
   "cell_type": "code",
   "execution_count": 13,
   "id": "b57c4464",
   "metadata": {},
   "outputs": [
    {
     "data": {
      "text/plain": [
       "14"
      ]
     },
     "execution_count": 13,
     "metadata": {},
     "output_type": "execute_result"
    }
   ],
   "source": [
    "u.dot(v)"
   ]
  },
  {
   "cell_type": "markdown",
   "id": "98aa232b",
   "metadata": {},
   "source": [
    "Compare with NumPy's built-in `.dot()` method - same result but optimized:"
   ]
  },
  {
   "cell_type": "code",
   "execution_count": null,
   "id": "b7710217",
   "metadata": {},
   "outputs": [],
   "source": [
    "# Create a 2D matrix with 3 rows and 4 columns\n",
    "U = np.array([\n",
    "    [2, 4, 5, 6],\n",
    "    [1, 2, 1, 2],\n",
    "    [3, 1, 2, 1],\n",
    "])"
   ]
  },
  {
   "cell_type": "markdown",
   "id": "edbb1a80",
   "metadata": {},
   "source": [
    "### Matrix-Vector Multiplication\n",
    "\n",
    "When multiplying a matrix by a vector, each row of the matrix is multiplied with the vector (dot product), resulting in a new vector.\n",
    "\n",
    "For a matrix **U** of shape (m, n) and vector **v** of shape (n,):\n",
    "$$\\text{Result}_i = \\text{sum}(\\text{U}_i \\cdot \\mathbf{v})$$\n",
    "\n",
    "The result is a vector of shape (m,)."
   ]
  },
  {
   "cell_type": "code",
   "execution_count": null,
   "id": "3f1ee5f1",
   "metadata": {},
   "outputs": [
    {
     "data": {
      "text/plain": [
       "(3, 4)"
      ]
     },
     "execution_count": 16,
     "metadata": {},
     "output_type": "execute_result"
    }
   ],
   "source": [
    "# Check the shape: 3 rows and 4 columns\n",
    "U.shape"
   ]
  },
  {
   "cell_type": "code",
   "execution_count": null,
   "id": "8b4f7530",
   "metadata": {},
   "outputs": [],
   "source": [
    "def matrix_vector_multiplication(U, v):\n",
    "    \"\"\"\n",
    "    Multiply a matrix by a vector.\n",
    "    \n",
    "    Parameters:\n",
    "    U: 2D numpy array of shape (m, n)\n",
    "    v: 1D numpy array of shape (n,)\n",
    "    \n",
    "    Returns:\n",
    "    A 1D numpy array of shape (m,) where each element is the dot product \n",
    "    of the corresponding row of U with v\n",
    "    \"\"\"\n",
    "    assert U.shape[1] == v.shape[0]\n",
    "    \n",
    "    num_rows = U.shape[0]\n",
    "    \n",
    "    # Initialize result vector with zeros\n",
    "    result = np.zeros(num_rows)\n",
    "    \n",
    "    # For each row in the matrix, compute dot product with vector v\n",
    "    for i in range(num_rows):\n",
    "        result[i] = vector_vector_multiplication(U[i], v)\n",
    "    \n",
    "    return result"
   ]
  },
  {
   "cell_type": "code",
   "execution_count": null,
   "id": "930f42c3",
   "metadata": {},
   "outputs": [
    {
     "data": {
      "text/plain": [
       "array([14.,  5.,  5.])"
      ]
     },
     "execution_count": 18,
     "metadata": {},
     "output_type": "execute_result"
    }
   ],
   "source": [
    "# Compute matrix-vector product using our custom implementation\n",
    "matrix_vector_multiplication(U, v)"
   ]
  },
  {
   "cell_type": "code",
   "execution_count": 19,
   "id": "0937dafd",
   "metadata": {},
   "outputs": [
    {
     "data": {
      "text/plain": [
       "array([14,  5,  5])"
      ]
     },
     "execution_count": 19,
     "metadata": {},
     "output_type": "execute_result"
    }
   ],
   "source": [
    "U.dot(v)"
   ]
  },
  {
   "cell_type": "markdown",
   "id": "0f310ee0",
   "metadata": {},
   "source": [
    "Using NumPy's optimized `.dot()` method - produces identical results:"
   ]
  },
  {
   "cell_type": "code",
   "execution_count": null,
   "id": "85280363",
   "metadata": {},
   "outputs": [],
   "source": [
    "# Create a second matrix with 4 rows and 3 columns\n",
    "V = np.array([\n",
    "    [1, 1, 2],\n",
    "    [0, 0.5, 1], \n",
    "    [0, 2, 1],\n",
    "    [2, 1, 0],\n",
    "])"
   ]
  },
  {
   "cell_type": "markdown",
   "id": "086d33af",
   "metadata": {},
   "source": [
    "### Matrix-Matrix Multiplication\n",
    "\n",
    "Multiplying two matrices produces a new matrix. For matrices **U** (shape m×n) and **V** (shape n×k):\n",
    "$$\\text{Result}_{i,j} = \\sum_{p=1}^{n} U_{i,p} \\cdot V_{p,j}$$\n",
    "\n",
    "Each element in the result is the dot product of a row from **U** with a column from **V**. The result has shape (m×k)."
   ]
  },
  {
   "cell_type": "code",
   "execution_count": null,
   "id": "82039bcf",
   "metadata": {},
   "outputs": [],
   "source": [
    "def matrix_matrix_multiplication(U, V):\n",
    "    \"\"\"\n",
    "    Multiply two matrices.\n",
    "    \n",
    "    Parameters:\n",
    "    U: 2D numpy array of shape (m, n)\n",
    "    V: 2D numpy array of shape (n, k)\n",
    "    \n",
    "    Returns:\n",
    "    A 2D numpy array of shape (m, k) where each element [i,j] is the dot product\n",
    "    of row i of U with column j of V\n",
    "    \"\"\"\n",
    "    assert U.shape[1] == V.shape[0]\n",
    "    \n",
    "    num_rows = U.shape[0]\n",
    "    num_cols = V.shape[1]\n",
    "    \n",
    "    # Initialize result matrix with zeros\n",
    "    result = np.zeros((num_rows, num_cols))\n",
    "    \n",
    "    # For each column in V, multiply U by that column and store in result\n",
    "    for i in range(num_cols):\n",
    "        vi = V[:, i]  # Extract the i-th column from V\n",
    "        Uvi = matrix_vector_multiplication(U, vi)\n",
    "        result[:, i] = Uvi\n",
    "    \n",
    "    return result"
   ]
  },
  {
   "cell_type": "code",
   "execution_count": null,
   "id": "ab0e5aba",
   "metadata": {},
   "outputs": [
    {
     "data": {
      "text/plain": [
       "array([[14. , 20. , 13. ],\n",
       "       [ 5. ,  6. ,  5. ],\n",
       "       [ 5. ,  8.5,  9. ]])"
      ]
     },
     "execution_count": 22,
     "metadata": {},
     "output_type": "execute_result"
    }
   ],
   "source": [
    "# Compute matrix-matrix product using our custom implementation\n",
    "matrix_matrix_multiplication(U, V)"
   ]
  },
  {
   "cell_type": "code",
   "execution_count": 23,
   "id": "8d0e3b73",
   "metadata": {},
   "outputs": [
    {
     "data": {
      "text/plain": [
       "array([[14. , 20. , 13. ],\n",
       "       [ 5. ,  6. ,  5. ],\n",
       "       [ 5. ,  8.5,  9. ]])"
      ]
     },
     "execution_count": 23,
     "metadata": {},
     "output_type": "execute_result"
    }
   ],
   "source": [
    "U.dot(V)"
   ]
  },
  {
   "cell_type": "markdown",
   "id": "913c1b93",
   "metadata": {},
   "source": [
    "NumPy's optimized `.dot()` method produces the same result:"
   ]
  },
  {
   "cell_type": "markdown",
   "id": "fb2cdbdd",
   "metadata": {},
   "source": [
    "## Identity Matrix\n",
    "\n",
    "The identity matrix is the equivalent of \"1\" in matrix algebra. When you multiply any matrix by the identity matrix, you get the original matrix back.\n",
    "\n",
    "For an n×n identity matrix **I**:\n",
    "- Diagonal elements = 1\n",
    "- All other elements = 0\n",
    "\n",
    "Key property: **A** × **I** = **A** and **I** × **A** = **A**"
   ]
  },
  {
   "cell_type": "code",
   "execution_count": null,
   "id": "ca913560",
   "metadata": {},
   "outputs": [],
   "source": [
    "# Create a 3x3 identity matrix\n",
    "I = np.eye(3)"
   ]
  },
  {
   "cell_type": "code",
   "execution_count": null,
   "id": "0614d05f",
   "metadata": {},
   "outputs": [
    {
     "data": {
      "text/plain": [
       "array([[1. , 1. , 2. ],\n",
       "       [0. , 0.5, 1. ],\n",
       "       [0. , 2. , 1. ],\n",
       "       [2. , 1. , 0. ]])"
      ]
     },
     "execution_count": 28,
     "metadata": {},
     "output_type": "execute_result"
    }
   ],
   "source": [
    "# Display matrix V (first 3 rows form a square matrix)\n",
    "V"
   ]
  },
  {
   "cell_type": "code",
   "execution_count": null,
   "id": "aabbf2ad",
   "metadata": {},
   "outputs": [
    {
     "data": {
      "text/plain": [
       "array([[1. , 1. , 2. ],\n",
       "       [0. , 0.5, 1. ],\n",
       "       [0. , 2. , 1. ],\n",
       "       [2. , 1. , 0. ]])"
      ]
     },
     "execution_count": 27,
     "metadata": {},
     "output_type": "execute_result"
    }
   ],
   "source": [
    "# Multiply matrix V by the identity matrix - result should be V itself\n",
    "V.dot(I)"
   ]
  },
  {
   "cell_type": "markdown",
   "id": "e8f786ef",
   "metadata": {},
   "source": [
    "## Matrix Inverse\n",
    "\n",
    "The inverse of a matrix **A** (denoted **A**⁻¹) is a matrix that, when multiplied by **A**, gives the identity matrix:\n",
    "$$\\mathbf{A} \\times \\mathbf{A}^{-1} = \\mathbf{I}$$\n",
    "\n",
    "**Important**: \n",
    "- Only square matrices can have inverses\n",
    "- Not all square matrices are invertible (must be non-singular)\n",
    "- The inverse is useful for solving linear equations: if **Ax** = **b**, then **x** = **A**⁻¹**b**"
   ]
  },
  {
   "cell_type": "code",
   "execution_count": null,
   "id": "3e6fc747",
   "metadata": {},
   "outputs": [
    {
     "data": {
      "text/plain": [
       "array([[1. , 1. , 2. ],\n",
       "       [0. , 0.5, 1. ],\n",
       "       [0. , 2. , 1. ]])"
      ]
     },
     "execution_count": 31,
     "metadata": {},
     "output_type": "execute_result"
    }
   ],
   "source": [
    "# Extract first 3 rows of V to form a square matrix (3x3)\n",
    "Vs = V[[0, 1, 2]]\n",
    "Vs"
   ]
  },
  {
   "cell_type": "code",
   "execution_count": null,
   "id": "5265b91e",
   "metadata": {
    "scrolled": true
   },
   "outputs": [
    {
     "data": {
      "text/plain": [
       "array([[ 1.        , -2.        ,  0.        ],\n",
       "       [ 0.        , -0.66666667,  0.66666667],\n",
       "       [ 0.        ,  1.33333333, -0.33333333]])"
      ]
     },
     "execution_count": 33,
     "metadata": {},
     "output_type": "execute_result"
    }
   ],
   "source": [
    "# Compute the inverse of the square matrix using NumPy\n",
    "Vs_inv = np.linalg.inv(Vs)\n",
    "Vs_inv"
   ]
  },
  {
   "cell_type": "code",
   "execution_count": null,
   "id": "3cd1d98b",
   "metadata": {},
   "outputs": [
    {
     "data": {
      "text/plain": [
       "array([[1., 0., 0.],\n",
       "       [0., 1., 0.],\n",
       "       [0., 0., 1.]])"
      ]
     },
     "execution_count": 34,
     "metadata": {},
     "output_type": "execute_result"
    }
   ],
   "source": [
    "# Verify the inverse property: Vs_inv × Vs should equal the identity matrix\n",
    "# (Note: Due to floating point precision, values very close to 0 and 1 are expected)\n",
    "Vs_inv.dot(Vs)"
   ]
  },
  {
   "cell_type": "markdown",
   "id": "1c54ed7d",
   "metadata": {},
   "source": [
    "## Summary\n",
    "\n",
    "You now understand the fundamental linear algebra operations used in machine learning:\n",
    "\n",
    "1. **Vector Operations**: Scaling, addition, and element-wise multiplication\n",
    "2. **Dot Product**: Combines two vectors into a scalar (vector-vector multiplication)\n",
    "3. **Matrix-Vector Multiplication**: Transforms a vector using a matrix\n",
    "4. **Matrix-Matrix Multiplication**: Combines two matrices (core of neural networks)\n",
    "5. **Identity Matrix**: The multiplicative identity for matrices\n",
    "6. **Matrix Inverse**: The opposite operation, useful for solving linear systems\n",
    "\n",
    "These concepts form the mathematical foundation for understanding:\n",
    "- Linear regression\n",
    "- Neural networks\n",
    "- Dimensionality reduction\n",
    "- Optimization algorithms\n",
    "\n",
    "### Next Step\n",
    "Introduction to Pandas for data manipulation and analysis"
   ]
  },
  {
   "cell_type": "code",
   "execution_count": null,
   "id": "64d8bdce",
   "metadata": {},
   "outputs": [],
   "source": [
    "# Additional resources and practice\n",
    "# Try modifying the vectors and matrices above and observing how operations change\n",
    "# Experiment with different vector sizes and matrix dimensions"
   ]
  }
 ],
 "metadata": {
  "kernelspec": {
   "display_name": "Python 3 (ipykernel)",
   "language": "python",
   "name": "python3"
  },
  "language_info": {
   "codemirror_mode": {
    "name": "ipython",
    "version": 3
   },
   "file_extension": ".py",
   "mimetype": "text/x-python",
   "name": "python",
   "nbconvert_exporter": "python",
   "pygments_lexer": "ipython3",
   "version": "3.12.1"
  }
 },
 "nbformat": 4,
 "nbformat_minor": 5
}
